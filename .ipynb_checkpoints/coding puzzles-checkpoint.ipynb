{
 "cells": [
  {
   "cell_type": "code",
   "execution_count": 1,
   "metadata": {},
   "outputs": [],
   "source": [
    "# 1.1a - A function to determine if a string has all unique characters.\n",
    "\n",
    "from collections import defaultdict\n",
    "\n",
    "def has_unique_char(string_1):\n",
    "    value_counts = defaultdict(lambda :0)\n",
    "    while string_1:\n",
    "        next_character = string_1[0]\n",
    "        string_1 = string_1[1:]\n",
    "        value_counts[next_character] += 1\n",
    "        if value_counts[next_character] != 1:\n",
    "            return False\n",
    "    return True\n",
    "\n",
    "print(has_unique_char('hrfth'))\n",
    "print(has_unique_char('hrft'))\n",
    "      "
   ]
  },
  {
   "cell_type": "code",
   "execution_count": 2,
   "metadata": {},
   "outputs": [],
   "source": [
    "#1.1b - A function to determine if a string has all unique characters.\n",
    "# without using additional data structures\n",
    "\n",
    "def has_unique_char_no_storage(string_1):\n",
    "    for n, character_1 in enumerate(string_1[:-1]):\n",
    "        for _, character_2 in enumerate(string_1[n+1:]):\n",
    "            if character_1==character_2:\n",
    "                return False\n",
    "    else:\n",
    "        return True\n",
    "    \n",
    "print(has_unique_char_no_storage('hrfth'))\n",
    "print(has_unique_char_no_storage('hrft'))"
   ]
  },
  {
   "cell_type": "code",
   "execution_count": 3,
   "metadata": {},
   "outputs": [
    {
     "name": "stdout",
     "output_type": "stream",
     "text": [
      "edcba\n"
     ]
    }
   ],
   "source": [
    "# 1.2 - A function to reverse a string\n",
    "\n",
    "def reverse_string(string_1):\n",
    "    string_2 = ''\n",
    "    for n, character in enumerate(string_1):\n",
    "        string_2 = character + string_2\n",
    "    return string_2\n",
    "\n",
    "print(reverse_string('abcde'))"
   ]
  },
  {
   "cell_type": "code",
   "execution_count": 4,
   "metadata": {},
   "outputs": [
    {
     "name": "stdout",
     "output_type": "stream",
     "text": [
      "abcd\n"
     ]
    }
   ],
   "source": [
    "# 1.3 - A function to remove duplicates from a string\n",
    "\n",
    "def remove_duplicates(string_1, n=0, m=1, character=''):\n",
    "    if m==len(string_1):\n",
    "        if n==len(string_1)-1:\n",
    "            return string_1\n",
    "        else:\n",
    "            return remove_duplicates(string_1, n+1, n+2, character=string_1[n])\n",
    "    else:\n",
    "        if string_1[m] != character:\n",
    "            return remove_duplicates(string_1, n, m+1, character)\n",
    "        else:\n",
    "            string_1 = string_1[:m]+string_1[m+1:]\n",
    "            return remove_duplicates(string_1, n, m, character)\n",
    "        \n",
    "        \n",
    "print(remove_duplicates('abcabd'))"
   ]
  },
  {
   "cell_type": "code",
   "execution_count": 5,
   "metadata": {},
   "outputs": [
    {
     "name": "stdout",
     "output_type": "stream",
     "text": [
      "True\n"
     ]
    }
   ],
   "source": [
    "# 1.4 - A function to check for anagrams\n",
    "        \n",
    "def anagram_check(string_1, string_2):\n",
    "    string_1_value_counts = defaultdict(lambda :0)\n",
    "    for character in string_1:\n",
    "        string_1_value_counts[character] += 1\n",
    "    for character in string_2:\n",
    "        string_1_value_counts[character] -= 1\n",
    "        if string_1_value_counts[character] < 0:\n",
    "            return False\n",
    "    for value in string_1_value_counts.values():\n",
    "        if value>0:\n",
    "            return False\n",
    "    else:\n",
    "        return True\n",
    "    \n",
    "    \n",
    "print(anagram_check('abcd', 'cbad'))"
   ]
  },
  {
   "cell_type": "code",
   "execution_count": 6,
   "metadata": {},
   "outputs": [
    {
     "name": "stdout",
     "output_type": "stream",
     "text": [
      "hello%20world%20\n"
     ]
    }
   ],
   "source": [
    "# 1.5 - A function to replace all spaces in a string with '%20'\n",
    "\n",
    "def replace_spaces(string_1, n=0):\n",
    "    if n==len(string_1):\n",
    "        return string_1\n",
    "    else:\n",
    "        if string_1[n] == ' ':\n",
    "            string_1 = string_1[:n]+'%20'+string_1[n+1:]\n",
    "            return replace_spaces(string_1, n+3)\n",
    "        else:\n",
    "            return replace_spaces(string_1, n+1)\n",
    "    \n",
    "print(replace_spaces('hello world '))"
   ]
  },
  {
   "cell_type": "code",
   "execution_count": 7,
   "metadata": {},
   "outputs": [],
   "source": [
    "# 3.1 - An implementation of three stacks using one array\n",
    "\n",
    "class Node:\n",
    "    \n",
    "    def __init__(self, value, next_node_index=None):\n",
    "        self.next_node_index = next_node_index\n",
    "        self.value = value\n",
    "\n",
    "        \n",
    "class ThreeStackArray:\n",
    "    \n",
    "    def __init__(self, length=100):\n",
    "        self.array = [None]*length\n",
    "        self.free_space = list(range(length))\n",
    "        self.stack_pointers = [None]*3\n",
    "        \n",
    "    def push(self, stack_num, value):\n",
    "        stack_pointer = self.stack_pointers[stack_num]\n",
    "        index = self.free_space.pop(0)\n",
    "        new_node = Node(value, stack_pointer)\n",
    "        self.array[index] = new_node\n",
    "        self.stack_pointers[stack_num] = index\n",
    "    \n",
    "    def pop(self, stack_num):\n",
    "        index = self.stack_pointers[stack_num]\n",
    "        if index:\n",
    "            node_to_pop = self.array[index]\n",
    "            self.stack_pointers[stack_num] = node_to_pop.next_node_index\n",
    "            value = node_to_pop.value\n",
    "            self.free_space.insert(0, index)\n",
    "            del node_to_pop\n",
    "            return value\n",
    "        else:\n",
    "            return"
   ]
  },
  {
   "cell_type": "code",
   "execution_count": 8,
   "metadata": {},
   "outputs": [
    {
     "name": "stdout",
     "output_type": "stream",
     "text": [
      "True\n"
     ]
    }
   ],
   "source": [
    "# 4.1 - Functions to find the min / max depth of a binary tree and \n",
    "# whether the tree is balanced.\n",
    "\n",
    "from dataclasses import dataclass\n",
    "\n",
    "@dataclass\n",
    "class Node:\n",
    "    val: object\n",
    "    left: object = None\n",
    "    right: object = None\n",
    "        \n",
    "\n",
    "tree = Node(13, Node(9, Node(4,None, Node(7)), Node(14)),Node(2))\n",
    "\n",
    "\n",
    "def max_depth(node, counter=0):\n",
    "    if node is None:\n",
    "        return counter-1\n",
    "    else:\n",
    "        return max(max_depth(node.left, counter+1), max_depth(node.right, counter+1))\n",
    "\n",
    "\n",
    "def min_depth(node, counter=0):\n",
    "    if node is None:\n",
    "        return counter\n",
    "    else:\n",
    "        return min(min_depth(node.left, counter+1), min_depth(node.right, counter+1))\n",
    "\n",
    "\n",
    "def tree_is_balanced(tree):\n",
    "    return max_depth(tree) - min_depth(tree) <= 1\n",
    "\n",
    "\n",
    "print(tree_is_balanced(tree))"
   ]
  },
  {
   "cell_type": "code",
   "execution_count": 9,
   "metadata": {},
   "outputs": [
    {
     "name": "stdout",
     "output_type": "stream",
     "text": [
      "4\n"
     ]
    }
   ],
   "source": [
    "# 4.6 - Code to find the first common ancestor of two nodes in a binary tree avoiding storing additional nodes in a data structure.\n",
    "\n",
    "@dataclass\n",
    "class Node:\n",
    "    name: str\n",
    "    parent: object = None\n",
    "    visited: bool = False\n",
    "\n",
    "\n",
    "a = Node('1')\n",
    "b = Node('2', a)\n",
    "c = Node('3', b)\n",
    "d = Node('4', b)\n",
    "e = Node('5', a)\n",
    "f = Node('6', d)\n",
    "\n",
    "graph = {node.name: node for node in [a,b,c,d,e]}\n",
    "\n",
    "\n",
    "def first_ancestor(graph, node_1, node_2):\n",
    "    if node_1 and node_2:\n",
    "        if node_1.name == node_2.name:\n",
    "            return node_1.name\n",
    "    if node_1:\n",
    "        if node_1.visited:\n",
    "            return node_1.name\n",
    "        node_1.visited = True\n",
    "    if node_2:\n",
    "        if node_2.visited:\n",
    "            return node_2.name\n",
    "        node_2.visited = True\n",
    "    if node_1:\n",
    "        node_1 = node_1.parent\n",
    "    if node_2:\n",
    "        node_2 = node_2.parent\n",
    "    return first_ancestor(graph, node_1, node_2)\n",
    "\n",
    "\n",
    "#print(first_ancestor(graph, a, b))\n",
    "print(first_ancestor(graph, d, f))"
   ]
  },
  {
   "cell_type": "code",
   "execution_count": 10,
   "metadata": {},
   "outputs": [
    {
     "name": "stdout",
     "output_type": "stream",
     "text": [
      "4\n"
     ]
    }
   ],
   "source": [
    "# 4.6 - Code to find the first common ancestor of two nodes in a binary tree avoiding storing additional nodes in a data structure.\n",
    "\n",
    "@dataclass\n",
    "class Node:\n",
    "    name: str\n",
    "    parent: object = None\n",
    "    visited: bool = False\n",
    "\n",
    "\n",
    "a = Node('1')\n",
    "b = Node('2', a)\n",
    "c = Node('3', b)\n",
    "d = Node('4', b)\n",
    "e = Node('5', a)\n",
    "f = Node('6', d)\n",
    "\n",
    "graph = {node.name: node for node in [a,b,c,d,e]}\n",
    "\n",
    "\n",
    "def first_ancestor(graph, node_1, node_2):\n",
    "    if node_1 and node_2:\n",
    "        if node_1.name == node_2.name:\n",
    "            return node_1.name\n",
    "    if node_1:\n",
    "        if node_1.visited:\n",
    "            return node_1.name\n",
    "        node_1.visited = True\n",
    "    if node_2:\n",
    "        if node_2.visited:\n",
    "            return node_2.name\n",
    "        node_2.visited = True\n",
    "    if node_1:\n",
    "        node_1 = node_1.parent\n",
    "    if node_2:\n",
    "        node_2 = node_2.parent\n",
    "    return first_ancestor(graph, node_1, node_2)\n",
    "\n",
    "\n",
    "#print(first_ancestor(graph, a, b))\n",
    "print(first_ancestor(graph, d, f))"
   ]
  },
  {
   "cell_type": "code",
   "execution_count": 11,
   "metadata": {},
   "outputs": [
    {
     "name": "stdout",
     "output_type": "stream",
     "text": [
      "1\n",
      "2\n"
     ]
    }
   ],
   "source": [
    "# 4.6 - Code to find the first common ancestor of two nodes in a binary tree avoiding storing additional nodes in a data structure.\n",
    "\n",
    "@dataclass\n",
    "class Node:\n",
    "    name: str\n",
    "    parent: object = None\n",
    "    visited: bool = False\n",
    "\n",
    "\n",
    "a = Node('1')\n",
    "b = Node('2', a)\n",
    "c = Node('3', b)\n",
    "d = Node('4', b)\n",
    "e = Node('5', a)\n",
    "f = Node('6', d)\n",
    "\n",
    "graph = {node.name: node for node in [a,b,c,d,e]}\n",
    "\n",
    "\n",
    "def first_ancestor(graph, node_1, node_2):\n",
    "    if node_1 and node_2:\n",
    "        if node_1.name == node_2.name:\n",
    "            return node_1.name\n",
    "    if node_1:\n",
    "        if node_1.visited:\n",
    "            return node_1.name\n",
    "        node_1.visited = True\n",
    "    if node_2:\n",
    "        if node_2.visited:\n",
    "            return node_2.name\n",
    "        node_2.visited = True\n",
    "    if node_1:\n",
    "        node_1 = node_1.parent\n",
    "    if node_2:\n",
    "        node_2 = node_2.parent\n",
    "    return first_ancestor(graph, node_1, node_2)\n",
    "\n",
    "\n",
    "print(first_ancestor(graph, a, b))\n",
    "print(first_ancestor(graph, d, f))"
   ]
  },
  {
   "cell_type": "code",
   "execution_count": 12,
   "metadata": {},
   "outputs": [
    {
     "name": "stdout",
     "output_type": "stream",
     "text": [
      "Node(val=2, left=None, right=None)\n"
     ]
    }
   ],
   "source": [
    "# Implementation of depth first search\n",
    "\n",
    "@dataclass\n",
    "class Node:\n",
    "    val: object\n",
    "    left: object = None\n",
    "    right: object = None\n",
    "\n",
    "\n",
    "tree = Node(13, Node(9, Node(4,None, Node(7)), Node(14)),Node(2))\n",
    "\n",
    "\n",
    "def depth_first_search(node, val):\n",
    "    if node.val == val:\n",
    "        return node\n",
    "    if node.left:\n",
    "        result = depth_first_search(node.left, val)\n",
    "        if result:\n",
    "            return result\n",
    "    if node.right:\n",
    "        result = depth_first_search(node.right, val)\n",
    "        if result:\n",
    "            return result\n",
    "\n",
    "\n",
    "print(depth_first_search(tree, 2))"
   ]
  },
  {
   "cell_type": "code",
   "execution_count": 13,
   "metadata": {},
   "outputs": [
    {
     "name": "stdout",
     "output_type": "stream",
     "text": [
      "Node(val=4, left=None, right=Node(val=7, left=None, right=None))\n"
     ]
    }
   ],
   "source": [
    "# Implementation of breadth first search\n",
    "\n",
    "def breadth_first_search(node, val):\n",
    "    nodes_to_search = [node]\n",
    "    while nodes_to_search:\n",
    "        current_node = nodes_to_search.pop(0)\n",
    "        if current_node.val == val:\n",
    "            return current_node\n",
    "        if current_node.left:\n",
    "            nodes_to_search.append(current_node.left)\n",
    "        if current_node.right:\n",
    "            nodes_to_search.append(current_node.right)\n",
    "    return\n",
    "\n",
    "print(breadth_first_search(tree, 4))"
   ]
  },
  {
   "cell_type": "code",
   "execution_count": 14,
   "metadata": {},
   "outputs": [
    {
     "name": "stdout",
     "output_type": "stream",
     "text": [
      "[13, 9, 4]\n",
      "[13, 9]\n",
      "[9, 4, 9]\n"
     ]
    }
   ],
   "source": [
    "# 4.8 - Code that when given a binary tree in which each node contains a value\n",
    "# prints all paths which sum up to that value. \n",
    "\n",
    "import copy\n",
    "\n",
    "def print_path_with_total(node, total, path=[]):\n",
    "    if total == node.val:\n",
    "        print(path + [node.val])\n",
    "    if node.left:\n",
    "        print_path_with_total(node.left, total-node.val, path + [node.val])\n",
    "    if node.right:\n",
    "        print_path_with_total(node.right, total-node.val, path + [node.val])\n",
    "\n",
    "\n",
    "tree = Node(13, Node(9, Node(4, Node(9), Node(7)), Node(14)), Node(2))\n",
    "\n",
    "print_path_with_total(tree, 26)\n",
    "\n",
    "\n",
    "def print_path_sum_with_any_starting_point(node, total):\n",
    "    print_path_with_total(node, total)\n",
    "    if node.left:\n",
    "        print_path_sum_with_any_starting_point(node.left, total)\n",
    "    if node.right:\n",
    "        print_path_sum_with_any_starting_point(node.right, total)\n",
    "\n",
    "#print_path_with_total(tree, 22)\n",
    "print_path_sum_with_any_starting_point(tree, 22)"
   ]
  },
  {
   "cell_type": "code",
   "execution_count": 15,
   "metadata": {},
   "outputs": [
    {
     "name": "stdout",
     "output_type": "stream",
     "text": [
      "[10, 1]\n",
      "[5, 5, 1]\n",
      "[5, 1, 1, 1, 1, 1, 1]\n",
      "[1, 1, 1, 1, 1, 1, 1, 1, 1, 1, 1]\n"
     ]
    }
   ],
   "source": [
    "# 8.7 - Code that when given an infinite number of quarters (25 cents), dimes (10 cents), nickels (5 cents) and\n",
    "# pennies (1 cent), can calculate the number of ways of representing n cents.\n",
    "\n",
    "from dataclasses import field\n",
    "\n",
    "\n",
    "class Node:\n",
    "    val: int\n",
    "    next_nodes: list = []\n",
    "\n",
    "n_cents = 100\n",
    "\n",
    "\n",
    "def print_payment_methods(n_cents, coins_paid=[], remaining_coin_values=[25, 10, 5, 1]):\n",
    "    if n_cents == 0:\n",
    "        print(coins_paid)\n",
    "    else:\n",
    "        for value in remaining_coin_values:\n",
    "            if n_cents - value >= 0:\n",
    "                print_payment_methods(n_cents-value, coins_paid+[value], [coin for coin in remaining_coin_values if coin<=value])\n",
    "\n",
    "gen = print_payment_methods(11)"
   ]
  },
  {
   "cell_type": "code",
   "execution_count": 16,
   "metadata": {},
   "outputs": [
    {
     "name": "stdout",
     "output_type": "stream",
     "text": [
      "[1, 2, 3, 3, 6, 7, 9]\n"
     ]
    }
   ],
   "source": [
    "# Implementation of quick sort\n",
    "\n",
    "\n",
    "def quick_sort(value_list):\n",
    "\n",
    "    if len(value_list)<=1:\n",
    "        return value_list\n",
    "    else:\n",
    "        pivot_value = value_list[0]\n",
    "        left_list = []\n",
    "        right_list = []\n",
    "        for n, value in enumerate(value_list[1:], 1):\n",
    "            if pivot_value > value:\n",
    "                left_list.append(value)\n",
    "            else:\n",
    "                right_list.append(value)\n",
    "        return quick_sort(left_list) + [pivot_value] + quick_sort(right_list)\n",
    "\n",
    "\n",
    "sorted_list = quick_sort([1,3,2,7,6,3,9])\n",
    "\n",
    "print(sorted_list)"
   ]
  },
  {
   "cell_type": "code",
   "execution_count": 17,
   "metadata": {},
   "outputs": [
    {
     "name": "stdout",
     "output_type": "stream",
     "text": [
      "['abcd', 'abdc', 'acbd', 'acdb', 'adbc', 'adcb', 'bacd', 'badc', 'bcad', 'bcda', 'bdac', 'bdca', 'cabd', 'cadb', 'cbad', 'cbda', 'cdab', 'cdba', 'dabc', 'dacb', 'dbac', 'dbca', 'dcab', 'dcba']\n"
     ]
    }
   ],
   "source": [
    "# A function that returns all permutations of a string\n",
    "\n",
    "string_1 = 'abcd'\n",
    "\n",
    "flatten = lambda l: [item for sublist in l for item in sublist]\n",
    "\n",
    "def get_all_permutations(string_instance, characters_remaining='', permuted_instance='', index=-1):\n",
    "    if index==len(string_instance):\n",
    "        return [permuted_instance]\n",
    "    if index == -1:\n",
    "        characters_remaining = string_instance\n",
    "        return get_all_permutations(string_instance, characters_remaining, permuted_instance, index + 1)\n",
    "    else:\n",
    "        results_list = []\n",
    "        for n, character in enumerate(characters_remaining):\n",
    "            results_list.append(get_all_permutations(string_instance, characters_remaining[:n]+characters_remaining[n+1:], permuted_instance+character, index+1))\n",
    "        return flatten(results_list)\n",
    "\n",
    "\n",
    "print(get_all_permutations('abcd'))"
   ]
  },
  {
   "cell_type": "code",
   "execution_count": 19,
   "metadata": {},
   "outputs": [
    {
     "name": "stdout",
     "output_type": "stream",
     "text": [
      "[0, 2]\n",
      "[0, 8]\n",
      "[1, 2]\n",
      "[1, 8]\n",
      "[2, 0]\n",
      "[2, 1]\n",
      "[2, 2]\n",
      "[2, 3]\n",
      "[2, 4]\n",
      "[2, 5]\n",
      "[2, 6]\n",
      "[2, 7]\n",
      "[2, 8]\n",
      "[2, 9]\n",
      "[3, 2]\n",
      "[3, 8]\n",
      "[4, 2]\n",
      "[4, 8]\n",
      "[5, 2]\n",
      "[5, 8]\n",
      "[6, 2]\n",
      "[6, 8]\n",
      "[7, 2]\n",
      "[7, 8]\n",
      "[8, 0]\n",
      "[8, 1]\n",
      "[8, 2]\n",
      "[8, 3]\n",
      "[8, 4]\n",
      "[8, 5]\n",
      "[8, 6]\n",
      "[8, 7]\n",
      "[8, 8]\n",
      "[8, 9]\n",
      "[9, 2]\n",
      "[9, 8]\n"
     ]
    }
   ],
   "source": [
    "# 8.6 An abstract implemantaion of the paint fill function\n",
    "\n",
    "from dataclasses import field\n",
    "from typing import List\n",
    "\n",
    "@dataclass\n",
    "class Pixel:\n",
    "    color: str\n",
    "\n",
    "@dataclass\n",
    "class Screen:\n",
    "    x_lim: int\n",
    "    y_lim: int\n",
    "    pixel_color_matrix: List[List[Pixel]] = field(init=False)\n",
    "\n",
    "    def __post_init__(self):\n",
    "        self.pixel_color_matrix = [[Pixel('white') for _ in range(self.y_lim)] for _ in range(self.x_lim)]\n",
    "\n",
    "screen = Screen(10,10)\n",
    "for i, pixel_row in enumerate(screen.pixel_color_matrix):\n",
    "    if i in [2,8]:\n",
    "        for j, pixel in enumerate(pixel_row):\n",
    "            print([i,j])\n",
    "            pixel.color = 'black'\n",
    "    else:\n",
    "        for j, pixel in enumerate(pixel_row):\n",
    "            if j in [2,8]:\n",
    "                print([i,j])\n",
    "                pixel.color = 'black'\n",
    "\n",
    "def paint_function(screen, start_coordinate, fill_color, initial_color=''):\n",
    "    if initial_color=='':\n",
    "        initial_color = screen.pixel_color_matrix[start_coordinate[1]][start_coordinate[0]].color\n",
    "        paint_function(screen, start_coordinate, fill_color, initial_color)\n",
    "    try:\n",
    "        screen_color = screen.pixel_color_matrix[start_coordinate[1]][start_coordinate[0]].color\n",
    "    except IndexError:\n",
    "        return\n",
    "    if screen_color == initial_color:\n",
    "        screen.pixel_color_matrix[start_coordinate[1]][start_coordinate[0]].color = fill_color\n",
    "        paint_function(screen, [start_coordinate[0]+1, start_coordinate[1]], fill_color, initial_color)\n",
    "        paint_function(screen, [start_coordinate[0]-1, start_coordinate[1]], fill_color, initial_color)\n",
    "        paint_function(screen, [start_coordinate[0], start_coordinate[1]+1], fill_color, initial_color)\n",
    "        paint_function(screen, [start_coordinate[0], start_coordinate[1]-1], fill_color, initial_color)\n",
    "\n",
    "\n",
    "\n",
    "paint_function(screen, [5,5], 'yellow')\n"
   ]
  },
  {
   "cell_type": "code",
   "execution_count": null,
   "metadata": {},
   "outputs": [],
   "source": [
    "# Code that finds the configurations for placing 8 queens on a 10x10 board\n",
    "\n",
    "import numpy as np\n",
    "\n",
    "matrix = np.zeros([9,9])\n",
    "\n",
    "def mark_squares_as_taken(matrix, coordinate, a, b):\n",
    "    row_no = coordinate[0]\n",
    "    col_no = coordinate[1]\n",
    "    n=row_no\n",
    "    l=col_no\n",
    "    while True:\n",
    "        try:\n",
    "            matrix[n,l]=1\n",
    "        except IndexError:\n",
    "            break\n",
    "        n+=a\n",
    "        l+=b\n",
    "    return matrix\n",
    "\n",
    "\n",
    "def place_queen(matrix, coordinate):\n",
    "    matrix = copy.deepcopy(matrix)\n",
    "    row_no = coordinate[0]\n",
    "    col_no = coordinate[1]\n",
    "    for a in [-1,0,1]:\n",
    "        for b in [-1,0,1]:\n",
    "            if (a!=0) or (b!=0):\n",
    "                matrix = mark_squares_as_taken(matrix, coordinate, a, b)\n",
    "    #matrix = np.delete(matrix, row_no, 1)\n",
    "    #matrix = np.delete(matrix, col_no, 0)\n",
    "    return matrix\n",
    "\n",
    "\n",
    "\n",
    "def chess_arrangement(matrix, queen_positions_list=[], remaining_queens=8):\n",
    "    if remaining_queens==0:\n",
    "        print(queen_positions_list)\n",
    "    else:\n",
    "        for row_no, row in enumerate(matrix):\n",
    "            for col_no, cell in enumerate(row):\n",
    "                if cell==0:\n",
    "                    new_queen_position = [row_no, col_no]\n",
    "                    updated_matrix = place_queen(matrix, new_queen_position)\n",
    "                    chess_arrangement(updated_matrix, queen_positions_list +[new_queen_position], remaining_queens-1)\n",
    "\n",
    "\n",
    "chess_arrangement(matrix)"
   ]
  },
  {
   "cell_type": "code",
   "execution_count": null,
   "metadata": {},
   "outputs": [],
   "source": []
  }
 ],
 "metadata": {
  "kernelspec": {
   "display_name": "Python 3",
   "language": "python",
   "name": "python3"
  },
  "language_info": {
   "codemirror_mode": {
    "name": "ipython",
    "version": 3
   },
   "file_extension": ".py",
   "mimetype": "text/x-python",
   "name": "python",
   "nbconvert_exporter": "python",
   "pygments_lexer": "ipython3",
   "version": "3.7.3"
  }
 },
 "nbformat": 4,
 "nbformat_minor": 2
}
